{
 "cells": [
  {
   "cell_type": "code",
   "execution_count": 4,
   "metadata": {},
   "outputs": [
    {
     "name": "stdout",
     "output_type": "stream",
     "text": [
      "3.1.0\n"
     ]
    }
   ],
   "source": [
    "import geojson\n",
    "\n",
    "print(geojson.__version__)  # This should print the version of geojson installed\n"
   ]
  },
  {
   "cell_type": "code",
   "execution_count": 6,
   "metadata": {},
   "outputs": [
    {
     "name": "stdout",
     "output_type": "stream",
     "text": [
      "GeoJSON file created successfully.\n"
     ]
    }
   ],
   "source": [
    "import pandas as pd\n",
    "import geojson\n",
    "\n",
    "# Load the CSV file\n",
    "df = pd.read_csv('electronics-drop.csv')\n",
    "\n",
    "# Handle NaN values\n",
    "df = df.dropna(subset=['Latitude', 'Longitude'])  # Drop rows where Latitude or Longitude is NaN\n",
    "df = df.fillna('')  # Replace other NaN values with empty strings or another appropriate value\n",
    "\n",
    "# Function to convert CSV row to GeoJSON feature\n",
    "def row_to_feature(row):\n",
    "    point = geojson.Point((row['Longitude'], row['Latitude']))\n",
    "    properties = row.drop(['Latitude', 'Longitude']).to_dict()\n",
    "    return geojson.Feature(geometry=point, properties=properties)\n",
    "\n",
    "# Convert all rows to GeoJSON features\n",
    "features = df.apply(row_to_feature, axis=1).tolist()\n",
    "\n",
    "# Create a GeoJSON FeatureCollection\n",
    "feature_collection = geojson.FeatureCollection(features)\n",
    "\n",
    "# Save to a GeoJSON file\n",
    "with open('electronics-drop.geojson', 'w') as f:\n",
    "    geojson.dump(feature_collection, f)\n",
    "\n",
    "print(\"GeoJSON file created successfully.\")\n"
   ]
  }
 ],
 "metadata": {
  "kernelspec": {
   "display_name": "Python 3",
   "language": "python",
   "name": "python3"
  },
  "language_info": {
   "codemirror_mode": {
    "name": "ipython",
    "version": 3
   },
   "file_extension": ".py",
   "mimetype": "text/x-python",
   "name": "python",
   "nbconvert_exporter": "python",
   "pygments_lexer": "ipython3",
   "version": "3.11.6"
  }
 },
 "nbformat": 4,
 "nbformat_minor": 2
}
